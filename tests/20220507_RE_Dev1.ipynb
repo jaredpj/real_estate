{
 "cells": [
  {
   "cell_type": "code",
   "execution_count": 1,
   "metadata": {},
   "outputs": [
    {
     "name": "stderr",
     "output_type": "stream",
     "text": [
      "/var/folders/27/22xv7cnn5dv21ywhxhvgv7p40000gn/T/ipykernel_30330/4232216850.py:14: DtypeWarning: Columns (0,1,37,38) have mixed types. Specify dtype option on import or set low_memory=False.\n",
      "  re_inv = pd.read_csv('https://econdata.s3-us-west-2.amazonaws.com/Reports/Core/RDC_Inventory_Core_Metrics_County_History.csv')\n",
      "/var/folders/27/22xv7cnn5dv21ywhxhvgv7p40000gn/T/ipykernel_30330/4232216850.py:15: DtypeWarning: Columns (0,1) have mixed types. Specify dtype option on import or set low_memory=False.\n",
      "  re_hot = pd.read_csv('https://econdata.s3-us-west-2.amazonaws.com/Reports/Hotness/RDC_Inventory_Hotness_Metrics_County_History.csv')\n",
      "/var/folders/27/22xv7cnn5dv21ywhxhvgv7p40000gn/T/ipykernel_30330/4232216850.py:51: SettingWithCopyWarning: \n",
      "A value is trying to be set on a copy of a slice from a DataFrame.\n",
      "Try using .loc[row_indexer,col_indexer] = value instead\n",
      "\n",
      "See the caveats in the documentation: https://pandas.pydata.org/pandas-docs/stable/user_guide/indexing.html#returning-a-view-versus-a-copy\n",
      "  re_hot['county_name'] = re_hot['county_name'].str.upper()\n"
     ]
    },
    {
     "ename": "ArrowInvalid",
     "evalue": "(\"Could not convert '201607' with type str: tried to convert to int64\", 'Conversion failed for column year_month with type object')",
     "output_type": "error",
     "traceback": [
      "\u001b[0;31m---------------------------------------------------------------------------\u001b[0m",
      "\u001b[0;31mArrowInvalid\u001b[0m                              Traceback (most recent call last)",
      "\u001b[1;32m/Users/jaredholder/Documents/GitHub Repos/real_estate/tests/20220507_RE_Dev1.ipynb Cell 1'\u001b[0m in \u001b[0;36m<cell line: 62>\u001b[0;34m()\u001b[0m\n\u001b[1;32m     <a href='vscode-notebook-cell:/Users/jaredholder/Documents/GitHub%20Repos/real_estate/tests/20220507_RE_Dev1.ipynb#ch0000000?line=59'>60</a>\u001b[0m \u001b[39m# Convert to Parquet\u001b[39;00m\n\u001b[1;32m     <a href='vscode-notebook-cell:/Users/jaredholder/Documents/GitHub%20Repos/real_estate/tests/20220507_RE_Dev1.ipynb#ch0000000?line=60'>61</a>\u001b[0m redfin\u001b[39m.\u001b[39mto_parquet(\u001b[39m'\u001b[39m\u001b[39mredfin.parquet\u001b[39m\u001b[39m'\u001b[39m)\n\u001b[0;32m---> <a href='vscode-notebook-cell:/Users/jaredholder/Documents/GitHub%20Repos/real_estate/tests/20220507_RE_Dev1.ipynb#ch0000000?line=61'>62</a>\u001b[0m re_inv\u001b[39m.\u001b[39;49mto_parquet(\u001b[39m'\u001b[39;49m\u001b[39mrealtor_inventory.parquet\u001b[39;49m\u001b[39m'\u001b[39;49m)\n\u001b[1;32m     <a href='vscode-notebook-cell:/Users/jaredholder/Documents/GitHub%20Repos/real_estate/tests/20220507_RE_Dev1.ipynb#ch0000000?line=62'>63</a>\u001b[0m re_hot\u001b[39m.\u001b[39mto_parquet(\u001b[39m'\u001b[39m\u001b[39mrealtor_hotness.parquet\u001b[39m\u001b[39m'\u001b[39m)\n",
      "File \u001b[0;32m/opt/anaconda3/envs/real-estate/lib/python3.10/site-packages/pandas/util/_decorators.py:207\u001b[0m, in \u001b[0;36mdeprecate_kwarg.<locals>._deprecate_kwarg.<locals>.wrapper\u001b[0;34m(*args, **kwargs)\u001b[0m\n\u001b[1;32m    <a href='file:///opt/anaconda3/envs/real-estate/lib/python3.10/site-packages/pandas/util/_decorators.py?line=204'>205</a>\u001b[0m     \u001b[39melse\u001b[39;00m:\n\u001b[1;32m    <a href='file:///opt/anaconda3/envs/real-estate/lib/python3.10/site-packages/pandas/util/_decorators.py?line=205'>206</a>\u001b[0m         kwargs[new_arg_name] \u001b[39m=\u001b[39m new_arg_value\n\u001b[0;32m--> <a href='file:///opt/anaconda3/envs/real-estate/lib/python3.10/site-packages/pandas/util/_decorators.py?line=206'>207</a>\u001b[0m \u001b[39mreturn\u001b[39;00m func(\u001b[39m*\u001b[39;49margs, \u001b[39m*\u001b[39;49m\u001b[39m*\u001b[39;49mkwargs)\n",
      "File \u001b[0;32m/opt/anaconda3/envs/real-estate/lib/python3.10/site-packages/pandas/core/frame.py:2835\u001b[0m, in \u001b[0;36mDataFrame.to_parquet\u001b[0;34m(self, path, engine, compression, index, partition_cols, storage_options, **kwargs)\u001b[0m\n\u001b[1;32m   <a href='file:///opt/anaconda3/envs/real-estate/lib/python3.10/site-packages/pandas/core/frame.py?line=2748'>2749</a>\u001b[0m \u001b[39m\"\"\"\u001b[39;00m\n\u001b[1;32m   <a href='file:///opt/anaconda3/envs/real-estate/lib/python3.10/site-packages/pandas/core/frame.py?line=2749'>2750</a>\u001b[0m \u001b[39mWrite a DataFrame to the binary parquet format.\u001b[39;00m\n\u001b[1;32m   <a href='file:///opt/anaconda3/envs/real-estate/lib/python3.10/site-packages/pandas/core/frame.py?line=2750'>2751</a>\u001b[0m \n\u001b[0;32m   (...)\u001b[0m\n\u001b[1;32m   <a href='file:///opt/anaconda3/envs/real-estate/lib/python3.10/site-packages/pandas/core/frame.py?line=2830'>2831</a>\u001b[0m \u001b[39m>>> content = f.read()\u001b[39;00m\n\u001b[1;32m   <a href='file:///opt/anaconda3/envs/real-estate/lib/python3.10/site-packages/pandas/core/frame.py?line=2831'>2832</a>\u001b[0m \u001b[39m\"\"\"\u001b[39;00m\n\u001b[1;32m   <a href='file:///opt/anaconda3/envs/real-estate/lib/python3.10/site-packages/pandas/core/frame.py?line=2832'>2833</a>\u001b[0m \u001b[39mfrom\u001b[39;00m \u001b[39mpandas\u001b[39;00m\u001b[39m.\u001b[39;00m\u001b[39mio\u001b[39;00m\u001b[39m.\u001b[39;00m\u001b[39mparquet\u001b[39;00m \u001b[39mimport\u001b[39;00m to_parquet\n\u001b[0;32m-> <a href='file:///opt/anaconda3/envs/real-estate/lib/python3.10/site-packages/pandas/core/frame.py?line=2834'>2835</a>\u001b[0m \u001b[39mreturn\u001b[39;00m to_parquet(\n\u001b[1;32m   <a href='file:///opt/anaconda3/envs/real-estate/lib/python3.10/site-packages/pandas/core/frame.py?line=2835'>2836</a>\u001b[0m     \u001b[39mself\u001b[39;49m,\n\u001b[1;32m   <a href='file:///opt/anaconda3/envs/real-estate/lib/python3.10/site-packages/pandas/core/frame.py?line=2836'>2837</a>\u001b[0m     path,\n\u001b[1;32m   <a href='file:///opt/anaconda3/envs/real-estate/lib/python3.10/site-packages/pandas/core/frame.py?line=2837'>2838</a>\u001b[0m     engine,\n\u001b[1;32m   <a href='file:///opt/anaconda3/envs/real-estate/lib/python3.10/site-packages/pandas/core/frame.py?line=2838'>2839</a>\u001b[0m     compression\u001b[39m=\u001b[39;49mcompression,\n\u001b[1;32m   <a href='file:///opt/anaconda3/envs/real-estate/lib/python3.10/site-packages/pandas/core/frame.py?line=2839'>2840</a>\u001b[0m     index\u001b[39m=\u001b[39;49mindex,\n\u001b[1;32m   <a href='file:///opt/anaconda3/envs/real-estate/lib/python3.10/site-packages/pandas/core/frame.py?line=2840'>2841</a>\u001b[0m     partition_cols\u001b[39m=\u001b[39;49mpartition_cols,\n\u001b[1;32m   <a href='file:///opt/anaconda3/envs/real-estate/lib/python3.10/site-packages/pandas/core/frame.py?line=2841'>2842</a>\u001b[0m     storage_options\u001b[39m=\u001b[39;49mstorage_options,\n\u001b[1;32m   <a href='file:///opt/anaconda3/envs/real-estate/lib/python3.10/site-packages/pandas/core/frame.py?line=2842'>2843</a>\u001b[0m     \u001b[39m*\u001b[39;49m\u001b[39m*\u001b[39;49mkwargs,\n\u001b[1;32m   <a href='file:///opt/anaconda3/envs/real-estate/lib/python3.10/site-packages/pandas/core/frame.py?line=2843'>2844</a>\u001b[0m )\n",
      "File \u001b[0;32m/opt/anaconda3/envs/real-estate/lib/python3.10/site-packages/pandas/io/parquet.py:420\u001b[0m, in \u001b[0;36mto_parquet\u001b[0;34m(df, path, engine, compression, index, storage_options, partition_cols, **kwargs)\u001b[0m\n\u001b[1;32m    <a href='file:///opt/anaconda3/envs/real-estate/lib/python3.10/site-packages/pandas/io/parquet.py?line=415'>416</a>\u001b[0m impl \u001b[39m=\u001b[39m get_engine(engine)\n\u001b[1;32m    <a href='file:///opt/anaconda3/envs/real-estate/lib/python3.10/site-packages/pandas/io/parquet.py?line=417'>418</a>\u001b[0m path_or_buf: FilePath \u001b[39m|\u001b[39m WriteBuffer[\u001b[39mbytes\u001b[39m] \u001b[39m=\u001b[39m io\u001b[39m.\u001b[39mBytesIO() \u001b[39mif\u001b[39;00m path \u001b[39mis\u001b[39;00m \u001b[39mNone\u001b[39;00m \u001b[39melse\u001b[39;00m path\n\u001b[0;32m--> <a href='file:///opt/anaconda3/envs/real-estate/lib/python3.10/site-packages/pandas/io/parquet.py?line=419'>420</a>\u001b[0m impl\u001b[39m.\u001b[39;49mwrite(\n\u001b[1;32m    <a href='file:///opt/anaconda3/envs/real-estate/lib/python3.10/site-packages/pandas/io/parquet.py?line=420'>421</a>\u001b[0m     df,\n\u001b[1;32m    <a href='file:///opt/anaconda3/envs/real-estate/lib/python3.10/site-packages/pandas/io/parquet.py?line=421'>422</a>\u001b[0m     path_or_buf,\n\u001b[1;32m    <a href='file:///opt/anaconda3/envs/real-estate/lib/python3.10/site-packages/pandas/io/parquet.py?line=422'>423</a>\u001b[0m     compression\u001b[39m=\u001b[39;49mcompression,\n\u001b[1;32m    <a href='file:///opt/anaconda3/envs/real-estate/lib/python3.10/site-packages/pandas/io/parquet.py?line=423'>424</a>\u001b[0m     index\u001b[39m=\u001b[39;49mindex,\n\u001b[1;32m    <a href='file:///opt/anaconda3/envs/real-estate/lib/python3.10/site-packages/pandas/io/parquet.py?line=424'>425</a>\u001b[0m     partition_cols\u001b[39m=\u001b[39;49mpartition_cols,\n\u001b[1;32m    <a href='file:///opt/anaconda3/envs/real-estate/lib/python3.10/site-packages/pandas/io/parquet.py?line=425'>426</a>\u001b[0m     storage_options\u001b[39m=\u001b[39;49mstorage_options,\n\u001b[1;32m    <a href='file:///opt/anaconda3/envs/real-estate/lib/python3.10/site-packages/pandas/io/parquet.py?line=426'>427</a>\u001b[0m     \u001b[39m*\u001b[39;49m\u001b[39m*\u001b[39;49mkwargs,\n\u001b[1;32m    <a href='file:///opt/anaconda3/envs/real-estate/lib/python3.10/site-packages/pandas/io/parquet.py?line=427'>428</a>\u001b[0m )\n\u001b[1;32m    <a href='file:///opt/anaconda3/envs/real-estate/lib/python3.10/site-packages/pandas/io/parquet.py?line=429'>430</a>\u001b[0m \u001b[39mif\u001b[39;00m path \u001b[39mis\u001b[39;00m \u001b[39mNone\u001b[39;00m:\n\u001b[1;32m    <a href='file:///opt/anaconda3/envs/real-estate/lib/python3.10/site-packages/pandas/io/parquet.py?line=430'>431</a>\u001b[0m     \u001b[39massert\u001b[39;00m \u001b[39misinstance\u001b[39m(path_or_buf, io\u001b[39m.\u001b[39mBytesIO)\n",
      "File \u001b[0;32m/opt/anaconda3/envs/real-estate/lib/python3.10/site-packages/pandas/io/parquet.py:174\u001b[0m, in \u001b[0;36mPyArrowImpl.write\u001b[0;34m(self, df, path, compression, index, storage_options, partition_cols, **kwargs)\u001b[0m\n\u001b[1;32m    <a href='file:///opt/anaconda3/envs/real-estate/lib/python3.10/site-packages/pandas/io/parquet.py?line=170'>171</a>\u001b[0m \u001b[39mif\u001b[39;00m index \u001b[39mis\u001b[39;00m \u001b[39mnot\u001b[39;00m \u001b[39mNone\u001b[39;00m:\n\u001b[1;32m    <a href='file:///opt/anaconda3/envs/real-estate/lib/python3.10/site-packages/pandas/io/parquet.py?line=171'>172</a>\u001b[0m     from_pandas_kwargs[\u001b[39m\"\u001b[39m\u001b[39mpreserve_index\u001b[39m\u001b[39m\"\u001b[39m] \u001b[39m=\u001b[39m index\n\u001b[0;32m--> <a href='file:///opt/anaconda3/envs/real-estate/lib/python3.10/site-packages/pandas/io/parquet.py?line=173'>174</a>\u001b[0m table \u001b[39m=\u001b[39m \u001b[39mself\u001b[39;49m\u001b[39m.\u001b[39;49mapi\u001b[39m.\u001b[39;49mTable\u001b[39m.\u001b[39;49mfrom_pandas(df, \u001b[39m*\u001b[39;49m\u001b[39m*\u001b[39;49mfrom_pandas_kwargs)\n\u001b[1;32m    <a href='file:///opt/anaconda3/envs/real-estate/lib/python3.10/site-packages/pandas/io/parquet.py?line=175'>176</a>\u001b[0m path_or_handle, handles, kwargs[\u001b[39m\"\u001b[39m\u001b[39mfilesystem\u001b[39m\u001b[39m\"\u001b[39m] \u001b[39m=\u001b[39m _get_path_or_handle(\n\u001b[1;32m    <a href='file:///opt/anaconda3/envs/real-estate/lib/python3.10/site-packages/pandas/io/parquet.py?line=176'>177</a>\u001b[0m     path,\n\u001b[1;32m    <a href='file:///opt/anaconda3/envs/real-estate/lib/python3.10/site-packages/pandas/io/parquet.py?line=177'>178</a>\u001b[0m     kwargs\u001b[39m.\u001b[39mpop(\u001b[39m\"\u001b[39m\u001b[39mfilesystem\u001b[39m\u001b[39m\"\u001b[39m, \u001b[39mNone\u001b[39;00m),\n\u001b[0;32m   (...)\u001b[0m\n\u001b[1;32m    <a href='file:///opt/anaconda3/envs/real-estate/lib/python3.10/site-packages/pandas/io/parquet.py?line=180'>181</a>\u001b[0m     is_dir\u001b[39m=\u001b[39mpartition_cols \u001b[39mis\u001b[39;00m \u001b[39mnot\u001b[39;00m \u001b[39mNone\u001b[39;00m,\n\u001b[1;32m    <a href='file:///opt/anaconda3/envs/real-estate/lib/python3.10/site-packages/pandas/io/parquet.py?line=181'>182</a>\u001b[0m )\n\u001b[1;32m    <a href='file:///opt/anaconda3/envs/real-estate/lib/python3.10/site-packages/pandas/io/parquet.py?line=182'>183</a>\u001b[0m \u001b[39mtry\u001b[39;00m:\n",
      "File \u001b[0;32m/opt/anaconda3/envs/real-estate/lib/python3.10/site-packages/pyarrow/table.pxi:3457\u001b[0m, in \u001b[0;36mpyarrow.lib.Table.from_pandas\u001b[0;34m()\u001b[0m\n",
      "File \u001b[0;32m/opt/anaconda3/envs/real-estate/lib/python3.10/site-packages/pyarrow/pandas_compat.py:607\u001b[0m, in \u001b[0;36mdataframe_to_arrays\u001b[0;34m(df, schema, preserve_index, nthreads, columns, safe)\u001b[0m\n\u001b[1;32m    <a href='file:///opt/anaconda3/envs/real-estate/lib/python3.10/site-packages/pyarrow/pandas_compat.py?line=604'>605</a>\u001b[0m     \u001b[39mfor\u001b[39;00m i, maybe_fut \u001b[39min\u001b[39;00m \u001b[39menumerate\u001b[39m(arrays):\n\u001b[1;32m    <a href='file:///opt/anaconda3/envs/real-estate/lib/python3.10/site-packages/pyarrow/pandas_compat.py?line=605'>606</a>\u001b[0m         \u001b[39mif\u001b[39;00m \u001b[39misinstance\u001b[39m(maybe_fut, futures\u001b[39m.\u001b[39mFuture):\n\u001b[0;32m--> <a href='file:///opt/anaconda3/envs/real-estate/lib/python3.10/site-packages/pyarrow/pandas_compat.py?line=606'>607</a>\u001b[0m             arrays[i] \u001b[39m=\u001b[39m maybe_fut\u001b[39m.\u001b[39;49mresult()\n\u001b[1;32m    <a href='file:///opt/anaconda3/envs/real-estate/lib/python3.10/site-packages/pyarrow/pandas_compat.py?line=608'>609</a>\u001b[0m types \u001b[39m=\u001b[39m [x\u001b[39m.\u001b[39mtype \u001b[39mfor\u001b[39;00m x \u001b[39min\u001b[39;00m arrays]\n\u001b[1;32m    <a href='file:///opt/anaconda3/envs/real-estate/lib/python3.10/site-packages/pyarrow/pandas_compat.py?line=610'>611</a>\u001b[0m \u001b[39mif\u001b[39;00m schema \u001b[39mis\u001b[39;00m \u001b[39mNone\u001b[39;00m:\n",
      "File \u001b[0;32m/opt/anaconda3/envs/real-estate/lib/python3.10/concurrent/futures/_base.py:439\u001b[0m, in \u001b[0;36mFuture.result\u001b[0;34m(self, timeout)\u001b[0m\n\u001b[1;32m    <a href='file:///opt/anaconda3/envs/real-estate/lib/python3.10/concurrent/futures/_base.py?line=436'>437</a>\u001b[0m     \u001b[39mraise\u001b[39;00m CancelledError()\n\u001b[1;32m    <a href='file:///opt/anaconda3/envs/real-estate/lib/python3.10/concurrent/futures/_base.py?line=437'>438</a>\u001b[0m \u001b[39melif\u001b[39;00m \u001b[39mself\u001b[39m\u001b[39m.\u001b[39m_state \u001b[39m==\u001b[39m FINISHED:\n\u001b[0;32m--> <a href='file:///opt/anaconda3/envs/real-estate/lib/python3.10/concurrent/futures/_base.py?line=438'>439</a>\u001b[0m     \u001b[39mreturn\u001b[39;00m \u001b[39mself\u001b[39;49m\u001b[39m.\u001b[39;49m__get_result()\n\u001b[1;32m    <a href='file:///opt/anaconda3/envs/real-estate/lib/python3.10/concurrent/futures/_base.py?line=440'>441</a>\u001b[0m \u001b[39mself\u001b[39m\u001b[39m.\u001b[39m_condition\u001b[39m.\u001b[39mwait(timeout)\n\u001b[1;32m    <a href='file:///opt/anaconda3/envs/real-estate/lib/python3.10/concurrent/futures/_base.py?line=442'>443</a>\u001b[0m \u001b[39mif\u001b[39;00m \u001b[39mself\u001b[39m\u001b[39m.\u001b[39m_state \u001b[39min\u001b[39;00m [CANCELLED, CANCELLED_AND_NOTIFIED]:\n",
      "File \u001b[0;32m/opt/anaconda3/envs/real-estate/lib/python3.10/concurrent/futures/_base.py:391\u001b[0m, in \u001b[0;36mFuture.__get_result\u001b[0;34m(self)\u001b[0m\n\u001b[1;32m    <a href='file:///opt/anaconda3/envs/real-estate/lib/python3.10/concurrent/futures/_base.py?line=388'>389</a>\u001b[0m \u001b[39mif\u001b[39;00m \u001b[39mself\u001b[39m\u001b[39m.\u001b[39m_exception:\n\u001b[1;32m    <a href='file:///opt/anaconda3/envs/real-estate/lib/python3.10/concurrent/futures/_base.py?line=389'>390</a>\u001b[0m     \u001b[39mtry\u001b[39;00m:\n\u001b[0;32m--> <a href='file:///opt/anaconda3/envs/real-estate/lib/python3.10/concurrent/futures/_base.py?line=390'>391</a>\u001b[0m         \u001b[39mraise\u001b[39;00m \u001b[39mself\u001b[39m\u001b[39m.\u001b[39m_exception\n\u001b[1;32m    <a href='file:///opt/anaconda3/envs/real-estate/lib/python3.10/concurrent/futures/_base.py?line=391'>392</a>\u001b[0m     \u001b[39mfinally\u001b[39;00m:\n\u001b[1;32m    <a href='file:///opt/anaconda3/envs/real-estate/lib/python3.10/concurrent/futures/_base.py?line=392'>393</a>\u001b[0m         \u001b[39m# Break a reference cycle with the exception in self._exception\u001b[39;00m\n\u001b[1;32m    <a href='file:///opt/anaconda3/envs/real-estate/lib/python3.10/concurrent/futures/_base.py?line=393'>394</a>\u001b[0m         \u001b[39mself\u001b[39m \u001b[39m=\u001b[39m \u001b[39mNone\u001b[39;00m\n",
      "File \u001b[0;32m/opt/anaconda3/envs/real-estate/lib/python3.10/concurrent/futures/thread.py:58\u001b[0m, in \u001b[0;36m_WorkItem.run\u001b[0;34m(self)\u001b[0m\n\u001b[1;32m     <a href='file:///opt/anaconda3/envs/real-estate/lib/python3.10/concurrent/futures/thread.py?line=54'>55</a>\u001b[0m     \u001b[39mreturn\u001b[39;00m\n\u001b[1;32m     <a href='file:///opt/anaconda3/envs/real-estate/lib/python3.10/concurrent/futures/thread.py?line=56'>57</a>\u001b[0m \u001b[39mtry\u001b[39;00m:\n\u001b[0;32m---> <a href='file:///opt/anaconda3/envs/real-estate/lib/python3.10/concurrent/futures/thread.py?line=57'>58</a>\u001b[0m     result \u001b[39m=\u001b[39m \u001b[39mself\u001b[39;49m\u001b[39m.\u001b[39;49mfn(\u001b[39m*\u001b[39;49m\u001b[39mself\u001b[39;49m\u001b[39m.\u001b[39;49margs, \u001b[39m*\u001b[39;49m\u001b[39m*\u001b[39;49m\u001b[39mself\u001b[39;49m\u001b[39m.\u001b[39;49mkwargs)\n\u001b[1;32m     <a href='file:///opt/anaconda3/envs/real-estate/lib/python3.10/concurrent/futures/thread.py?line=58'>59</a>\u001b[0m \u001b[39mexcept\u001b[39;00m \u001b[39mBaseException\u001b[39;00m \u001b[39mas\u001b[39;00m exc:\n\u001b[1;32m     <a href='file:///opt/anaconda3/envs/real-estate/lib/python3.10/concurrent/futures/thread.py?line=59'>60</a>\u001b[0m     \u001b[39mself\u001b[39m\u001b[39m.\u001b[39mfuture\u001b[39m.\u001b[39mset_exception(exc)\n",
      "File \u001b[0;32m/opt/anaconda3/envs/real-estate/lib/python3.10/site-packages/pyarrow/pandas_compat.py:581\u001b[0m, in \u001b[0;36mdataframe_to_arrays.<locals>.convert_column\u001b[0;34m(col, field)\u001b[0m\n\u001b[1;32m    <a href='file:///opt/anaconda3/envs/real-estate/lib/python3.10/site-packages/pyarrow/pandas_compat.py?line=575'>576</a>\u001b[0m \u001b[39mexcept\u001b[39;00m (pa\u001b[39m.\u001b[39mArrowInvalid,\n\u001b[1;32m    <a href='file:///opt/anaconda3/envs/real-estate/lib/python3.10/site-packages/pyarrow/pandas_compat.py?line=576'>577</a>\u001b[0m         pa\u001b[39m.\u001b[39mArrowNotImplementedError,\n\u001b[1;32m    <a href='file:///opt/anaconda3/envs/real-estate/lib/python3.10/site-packages/pyarrow/pandas_compat.py?line=577'>578</a>\u001b[0m         pa\u001b[39m.\u001b[39mArrowTypeError) \u001b[39mas\u001b[39;00m e:\n\u001b[1;32m    <a href='file:///opt/anaconda3/envs/real-estate/lib/python3.10/site-packages/pyarrow/pandas_compat.py?line=578'>579</a>\u001b[0m     e\u001b[39m.\u001b[39margs \u001b[39m+\u001b[39m\u001b[39m=\u001b[39m (\u001b[39m\"\u001b[39m\u001b[39mConversion failed for column \u001b[39m\u001b[39m{!s}\u001b[39;00m\u001b[39m with type \u001b[39m\u001b[39m{!s}\u001b[39;00m\u001b[39m\"\u001b[39m\n\u001b[1;32m    <a href='file:///opt/anaconda3/envs/real-estate/lib/python3.10/site-packages/pyarrow/pandas_compat.py?line=579'>580</a>\u001b[0m                \u001b[39m.\u001b[39mformat(col\u001b[39m.\u001b[39mname, col\u001b[39m.\u001b[39mdtype),)\n\u001b[0;32m--> <a href='file:///opt/anaconda3/envs/real-estate/lib/python3.10/site-packages/pyarrow/pandas_compat.py?line=580'>581</a>\u001b[0m     \u001b[39mraise\u001b[39;00m e\n\u001b[1;32m    <a href='file:///opt/anaconda3/envs/real-estate/lib/python3.10/site-packages/pyarrow/pandas_compat.py?line=581'>582</a>\u001b[0m \u001b[39mif\u001b[39;00m \u001b[39mnot\u001b[39;00m field_nullable \u001b[39mand\u001b[39;00m result\u001b[39m.\u001b[39mnull_count \u001b[39m>\u001b[39m \u001b[39m0\u001b[39m:\n\u001b[1;32m    <a href='file:///opt/anaconda3/envs/real-estate/lib/python3.10/site-packages/pyarrow/pandas_compat.py?line=582'>583</a>\u001b[0m     \u001b[39mraise\u001b[39;00m \u001b[39mValueError\u001b[39;00m(\u001b[39m\"\u001b[39m\u001b[39mField \u001b[39m\u001b[39m{}\u001b[39;00m\u001b[39m was non-nullable but pandas column \u001b[39m\u001b[39m\"\u001b[39m\n\u001b[1;32m    <a href='file:///opt/anaconda3/envs/real-estate/lib/python3.10/site-packages/pyarrow/pandas_compat.py?line=583'>584</a>\u001b[0m                      \u001b[39m\"\u001b[39m\u001b[39mhad \u001b[39m\u001b[39m{}\u001b[39;00m\u001b[39m null values\u001b[39m\u001b[39m\"\u001b[39m\u001b[39m.\u001b[39mformat(\u001b[39mstr\u001b[39m(field),\n\u001b[1;32m    <a href='file:///opt/anaconda3/envs/real-estate/lib/python3.10/site-packages/pyarrow/pandas_compat.py?line=584'>585</a>\u001b[0m                                                  result\u001b[39m.\u001b[39mnull_count))\n",
      "File \u001b[0;32m/opt/anaconda3/envs/real-estate/lib/python3.10/site-packages/pyarrow/pandas_compat.py:575\u001b[0m, in \u001b[0;36mdataframe_to_arrays.<locals>.convert_column\u001b[0;34m(col, field)\u001b[0m\n\u001b[1;32m    <a href='file:///opt/anaconda3/envs/real-estate/lib/python3.10/site-packages/pyarrow/pandas_compat.py?line=571'>572</a>\u001b[0m     type_ \u001b[39m=\u001b[39m field\u001b[39m.\u001b[39mtype\n\u001b[1;32m    <a href='file:///opt/anaconda3/envs/real-estate/lib/python3.10/site-packages/pyarrow/pandas_compat.py?line=573'>574</a>\u001b[0m \u001b[39mtry\u001b[39;00m:\n\u001b[0;32m--> <a href='file:///opt/anaconda3/envs/real-estate/lib/python3.10/site-packages/pyarrow/pandas_compat.py?line=574'>575</a>\u001b[0m     result \u001b[39m=\u001b[39m pa\u001b[39m.\u001b[39;49marray(col, \u001b[39mtype\u001b[39;49m\u001b[39m=\u001b[39;49mtype_, from_pandas\u001b[39m=\u001b[39;49m\u001b[39mTrue\u001b[39;49;00m, safe\u001b[39m=\u001b[39;49msafe)\n\u001b[1;32m    <a href='file:///opt/anaconda3/envs/real-estate/lib/python3.10/site-packages/pyarrow/pandas_compat.py?line=575'>576</a>\u001b[0m \u001b[39mexcept\u001b[39;00m (pa\u001b[39m.\u001b[39mArrowInvalid,\n\u001b[1;32m    <a href='file:///opt/anaconda3/envs/real-estate/lib/python3.10/site-packages/pyarrow/pandas_compat.py?line=576'>577</a>\u001b[0m         pa\u001b[39m.\u001b[39mArrowNotImplementedError,\n\u001b[1;32m    <a href='file:///opt/anaconda3/envs/real-estate/lib/python3.10/site-packages/pyarrow/pandas_compat.py?line=577'>578</a>\u001b[0m         pa\u001b[39m.\u001b[39mArrowTypeError) \u001b[39mas\u001b[39;00m e:\n\u001b[1;32m    <a href='file:///opt/anaconda3/envs/real-estate/lib/python3.10/site-packages/pyarrow/pandas_compat.py?line=578'>579</a>\u001b[0m     e\u001b[39m.\u001b[39margs \u001b[39m+\u001b[39m\u001b[39m=\u001b[39m (\u001b[39m\"\u001b[39m\u001b[39mConversion failed for column \u001b[39m\u001b[39m{!s}\u001b[39;00m\u001b[39m with type \u001b[39m\u001b[39m{!s}\u001b[39;00m\u001b[39m\"\u001b[39m\n\u001b[1;32m    <a href='file:///opt/anaconda3/envs/real-estate/lib/python3.10/site-packages/pyarrow/pandas_compat.py?line=579'>580</a>\u001b[0m                \u001b[39m.\u001b[39mformat(col\u001b[39m.\u001b[39mname, col\u001b[39m.\u001b[39mdtype),)\n",
      "File \u001b[0;32m/opt/anaconda3/envs/real-estate/lib/python3.10/site-packages/pyarrow/array.pxi:312\u001b[0m, in \u001b[0;36mpyarrow.lib.array\u001b[0;34m()\u001b[0m\n",
      "File \u001b[0;32m/opt/anaconda3/envs/real-estate/lib/python3.10/site-packages/pyarrow/array.pxi:83\u001b[0m, in \u001b[0;36mpyarrow.lib._ndarray_to_array\u001b[0;34m()\u001b[0m\n",
      "File \u001b[0;32m/opt/anaconda3/envs/real-estate/lib/python3.10/site-packages/pyarrow/error.pxi:100\u001b[0m, in \u001b[0;36mpyarrow.lib.check_status\u001b[0;34m()\u001b[0m\n",
      "\u001b[0;31mArrowInvalid\u001b[0m: (\"Could not convert '201607' with type str: tried to convert to int64\", 'Conversion failed for column year_month with type object')"
     ]
    }
   ],
   "source": [
    "### ------------ ###\n",
    "### System Setup ###\n",
    "### ------------ ###\n",
    "\n",
    "# Import modules/methods\n",
    "import pandas as pd\n",
    "\n",
    "### ------------ ###\n",
    "### Pipeline dev ###\n",
    "### ------------ ###\n",
    "\n",
    "# Read in data\n",
    "redfin = pd.read_csv('https://redfin-public-data.s3.us-west-2.amazonaws.com/redfin_market_tracker/county_market_tracker.tsv000.gz', sep = '\\t')\n",
    "re_inv = pd.read_csv('https://econdata.s3-us-west-2.amazonaws.com/Reports/Core/RDC_Inventory_Core_Metrics_County_History.csv')\n",
    "re_hot = pd.read_csv('https://econdata.s3-us-west-2.amazonaws.com/Reports/Hotness/RDC_Inventory_Hotness_Metrics_County_History.csv')\n",
    "\n",
    "# Drop last rows of Realtor.com data (junk lines; no real data)\n",
    "re_inv.drop(re_inv.tail(1).index, inplace=True)\n",
    "re_hot.drop(re_hot.tail(1).index, inplace=True)\n",
    "\n",
    "# Fields to keep from Redfin\n",
    "keep_redfin = ['period_begin', 'region', 'property_type', 'median_list_price', 'median_sale_price'\n",
    "                , 'homes_sold', 'pending_sales', 'new_listings', 'inventory', 'avg_sale_to_list', 'price_drops', 'sold_above_list', 'median_dom']\n",
    "\n",
    "# Fields to keep from Realtor.com inventory data\n",
    "keep_re_inv = ['month_date_yyyymm', 'county_fips', 'county_name', 'median_listing_price', 'pending_listing_count', 'new_listing_count', 'total_listing_count'\n",
    "                , 'price_reduced_count', 'median_days_on_market']\n",
    "\n",
    "# Fields to keep from Realtor.com hotness data\n",
    "keep_re_hot = ['month_date_yyyymm', 'county_fips', 'county_name', 'hotness_rank', 'hotness_score', 'supply_score'\n",
    "                , 'demand_score', 'ldp_unique_viewers_per_property_mm']\n",
    "\n",
    "# Drop unwanted fields\n",
    "redfin = redfin[keep_redfin]\n",
    "re_inv = re_inv[keep_re_inv]\n",
    "re_hot = re_hot[keep_re_hot]\n",
    "\n",
    "# Rename fields\n",
    "rename_redfin = ['year_month', 'county_name', 'property_type', 'median_list_price', 'median_sale_price', 'homes_sold', 'pending_sales', 'new_listings'\n",
    "                , 'total_inventory', 'avg_sale_to_list', 'price_drops', 'sold_above_list', 'median_dom']\n",
    "rename_re_inv = ['year_month', 'county_fips', 'county_name', 'median_list_price', 'pending_sales', 'new_listings', 'total_inventory', 'price_drops', 'median_dom']\n",
    "rename_re_hot = ['year_month', 'county_fips', 'county_name', 'hotness_rank', 'hotness_score', 'supply_score', 'demand_score', 'unq_viewers_mm']\n",
    "\n",
    "redfin.columns = rename_redfin\n",
    "re_inv.columns = rename_re_inv\n",
    "re_hot.columns = rename_re_hot\n",
    "\n",
    "# Clean up text fields\n",
    "redfin['county_name'] = redfin['county_name'].str.upper()\n",
    "re_inv['county_name'] = re_inv['county_name'].str.upper()\n",
    "re_hot['county_name'] = re_hot['county_name'].str.upper()\n",
    "\n",
    "redfin['property_type'] = redfin['property_type'].str.upper()\n",
    "\n",
    "# Convert data types\n",
    "redfin['year_month'] = pd.to_datetime(redfin['year_month'])\n",
    "redfin['county_name'] = redfin['county_name'].astype('str')\n",
    "redfin['property_type'] = redfin['property_type'].astype('str')\n",
    "\n",
    "# Convert to Parquet\n",
    "redfin.to_parquet('../data/redfin.parquet')\n",
    "re_inv.to_parquet('../data/realtor_inventory.parquet')\n",
    "re_hot.to_parquet('../data/realtor_hotness.parquet')"
   ]
  },
  {
   "cell_type": "code",
   "execution_count": 9,
   "metadata": {},
   "outputs": [
    {
     "data": {
      "text/plain": [
       "0               NaT\n",
       "1               NaT\n",
       "2               NaT\n",
       "3               NaT\n",
       "4               NaT\n",
       "            ...    \n",
       "213691   2016-07-01\n",
       "213692   2016-07-01\n",
       "213693   2016-07-01\n",
       "213694   2016-07-01\n",
       "213695   2016-07-01\n",
       "Name: year_month, Length: 213696, dtype: datetime64[ns]"
      ]
     },
     "execution_count": 9,
     "metadata": {},
     "output_type": "execute_result"
    }
   ],
   "source": [
    "re_inv['year_month'] = pd.to_datetime(re_inv['year_month'].str.slice(0,4) + '-' + re_inv['year_month'].str.slice(4,6) + '-01')\n",
    "re_hot['year_month'] = pd.to_datetime(re_hot['year_month'].str.slice(0,4) + '-' + re_hot['year_month'].str.slice(4,6) + '-01')"
   ]
  },
  {
   "cell_type": "code",
   "execution_count": null,
   "metadata": {},
   "outputs": [
    {
     "name": "stdout",
     "output_type": "stream",
     "text": [
      "<class 'pandas.core.frame.DataFrame'>\n",
      "RangeIndex: 587193 entries, 0 to 587192\n",
      "Data columns (total 13 columns):\n",
      " #   Column             Non-Null Count   Dtype  \n",
      "---  ------             --------------   -----  \n",
      " 0   year_month         587193 non-null  object \n",
      " 1   county_name        587193 non-null  object \n",
      " 2   property_type      587193 non-null  object \n",
      " 3   median_list_price  541242 non-null  float64\n",
      " 4   median_sale_price  586483 non-null  float64\n",
      " 5   homes_sold         586489 non-null  float64\n",
      " 6   pending_sales      504553 non-null  float64\n",
      " 7   new_listings       536283 non-null  float64\n",
      " 8   total_inventory    558603 non-null  float64\n",
      " 9   avg_sale_to_list   579073 non-null  float64\n",
      " 10  price_drops        338852 non-null  float64\n",
      " 11  sold_above_list    581534 non-null  float64\n",
      " 12  median_dom         578081 non-null  float64\n",
      "dtypes: float64(10), object(3)\n",
      "memory usage: 58.2+ MB\n"
     ]
    }
   ],
   "source": [
    "redfin.info()"
   ]
  }
 ],
 "metadata": {
  "interpreter": {
   "hash": "322bd7270540da90efbb3658f11a9fa9abe4d4b3be41161aa1c85a12abac79b6"
  },
  "kernelspec": {
   "display_name": "Python 3.10.4 ('real-estate')",
   "language": "python",
   "name": "python3"
  },
  "language_info": {
   "codemirror_mode": {
    "name": "ipython",
    "version": 3
   },
   "file_extension": ".py",
   "mimetype": "text/x-python",
   "name": "python",
   "nbconvert_exporter": "python",
   "pygments_lexer": "ipython3",
   "version": "3.10.4"
  },
  "orig_nbformat": 4
 },
 "nbformat": 4,
 "nbformat_minor": 2
}
